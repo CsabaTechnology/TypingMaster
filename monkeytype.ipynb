{
 "cells": [
  {
   "cell_type": "code",
   "execution_count": 1,
   "metadata": {},
   "outputs": [],
   "source": [
    "import random\n",
    "import time\n",
    "from selenium import webdriver\n",
    "from selenium.webdriver import ActionChains\n",
    "from selenium.webdriver import DesiredCapabilities\n",
    "from selenium.webdriver.chrome.options import Options as ChromeOptions\n",
    "from selenium.webdriver.common.by import By\n",
    "from selenium.common.exceptions import NoSuchElementException, StaleElementReferenceException"
   ]
  },
  {
   "cell_type": "code",
   "execution_count": 9,
   "metadata": {},
   "outputs": [
    {
     "data": {
      "text/plain": [
       "{}"
      ]
     },
     "execution_count": 9,
     "metadata": {},
     "output_type": "execute_result"
    }
   ],
   "source": [
    "chrome_options = ChromeOptions()\n",
    "# chrome_options.headless = True\n",
    "# chrome_options.add_argument(\"--disable-extensions\")\n",
    "chrome_options.add_argument(\"--disable-gpu\")\n",
    "# chrome_options.add_argument(\"--no-sandbox\")\n",
    "# chrome_options.add_argument(\"--headless\")  # for Jenkins\n",
    "# chrome_options.add_argument(\"--disable-dev-shm-usage\")  # Jenkins\n",
    "# chrome_options.add_argument(\"--disable-setuid-sandbox\")\n",
    "# chrome_options.add_argument(\"--allow-insecure-localhost\")\n",
    "# chrome_options.add_argument(\"--no-cache\")\n",
    "# chrome_options.add_argument(\"--user-data-dir=/tmp/user-data\")\n",
    "# chrome_options.add_argument(\"--hide-scrollbars\")\n",
    "chrome_options.add_argument(\"--enable-logging\")\n",
    "# chrome_options.add_argument(\"--log-level=0\")\n",
    "chrome_options.add_argument(\"--single-process\")\n",
    "# chrome_options.add_argument(\"--data-path=/tmp/data-path\")\n",
    "# chrome_options.add_argument(\"--ignore-certificate-errors\")\n",
    "# chrome_options.add_argument(\"--homedir=/tmp\")\n",
    "# chrome_options.add_argument(\"--disk-cache-dir=/tmp/cache-dir\")\n",
    "# chrome_options.add_argument(\"user-agent={}\".format(CHROME_USER_AGENT))\n",
    "chrome_options.add_argument(\"--start-maximized\")\n",
    "chrome_options.add_argument(\"--window-size=1900,1000\")\n",
    "# chrome_options.add_argument(\"--disable-software-rasterizer\")\n",
    "# chrome_options.add_argument(\"--ignore-certificate-errors-spki-list\")\n",
    "# chrome_options.add_argument(\"--ignore-ssl-errors\")\n",
    "# chrome_options.add_argument(\"--crash-dumps-dir=/tmp\")\n",
    "chrome_options.add_argument(\"--profile-directory=Default\")\n",
    "# chrome_options.add_argument(\"--disable-infobars\")\n",
    "capabilities = DesiredCapabilities.CHROME.copy()\n",
    "capabilities[\"pageLoadStrategy\"] = \"normal\"\n",
    "chrome_options._caps = capabilities\n",
    "\n",
    "browser = webdriver.Chrome(\n",
    "    options=chrome_options, desired_capabilities=capabilities\n",
    ")\n",
    "\n",
    "# https://scrapfly.io/blog/how-to-avoid-web-scraping-blocking-javascript/\n",
    "script = \"Object.defineProperty(navigator, 'webdriver', {get: () => false})\"\n",
    "browser.execute_cdp_cmd(\n",
    "    \"Page.addScriptToEvaluateOnNewDocument\", {\"source\": script}\n",
    ")\n",
    "dummy_user_agent = {\n",
    "    # usual user agent string\n",
    "    \"userAgent\": \"Mozilla/5.0 (X11; Linux x86_64) AppleWebKit/537.36 (KHTML, like Gecko) Chrome/115.0.0.0 Safari/537.36\",\n",
    "    \"platform\": \"Linux x86_64\",\n",
    "    \"language\": \"en-US\",\n",
    "    \"acceptLanguage\": \"en-US, en\",\n",
    "    \"userAgentMetadata\": {\n",
    "        # ensure the order of this array matches real browser!\n",
    "        \"brands\": [\n",
    "            # at the time of writing this is always == 99\n",
    "            {\"brand\": \" Not/A)Brand\", \"version\": \"99\"},\n",
    "            # ensure that the versions here match ones from User-Agent string\n",
    "            {\"brand\": \"Google Chrome\", \"version\": \"115\"},\n",
    "            {\"brand\": \"Chromium\", \"version\": \"115\"},\n",
    "        ],\n",
    "        \"fullVersion\": \"115.0.0.0\",\n",
    "        \"platform\": \"Linux\",\n",
    "        \"platformVersion\": \"\",\n",
    "        \"architecture\": \"x86_64\",\n",
    "        \"model\": \"\",\n",
    "        \"mobile\": False,\n",
    "        \"vendor\": \"Google Inc.\",\n",
    "        \"VendorSub\": \"\",\n",
    "    },\n",
    "    \"product\": \"Gecko\",\n",
    "    \"productSub\": \"20030107\",\n",
    "}\n",
    "browser.execute_cdp_cmd(\"Network.setUserAgentOverride\", dummy_user_agent)"
   ]
  },
  {
   "cell_type": "code",
   "execution_count": 3,
   "metadata": {},
   "outputs": [],
   "source": [
    "def one_letter_at_a_time(delay: float):\n",
    "    # version 1: send leter by letter\n",
    "    words = browser.find_element(By.ID, \"words\").find_elements(By.CLASS_NAME, \"word\")\n",
    "    try:\n",
    "        while len(words) != 0:\n",
    "            active_index = [i for i in range(len(words)) if 'active' in words[i].get_attribute('class')][0]\n",
    "            words = words[active_index:]\n",
    "            all_letters = \"\"\n",
    "            for word in words:\n",
    "                letters = word.find_elements(By.TAG_NAME, \"letter\")\n",
    "                for letter in letters:\n",
    "                    all_letters += letter.text\n",
    "                all_letters += \" \"\n",
    "            for letter in all_letters:\n",
    "                ActionChains(browser).send_keys(letter).perform()\n",
    "                time.sleep(delay)\n",
    "            words = browser.find_element(By.ID, \"words\").find_elements(By.CLASS_NAME, \"word\")\n",
    "    except Exception as e:\n",
    "        print(e)\n",
    "    print(\"Game Over\")"
   ]
  },
  {
   "cell_type": "code",
   "execution_count": 4,
   "metadata": {
    "tags": []
   },
   "outputs": [],
   "source": [
    "def all_letters_at_a_time(delay: float):\n",
    "    # version 2: send all letters at once\n",
    "    words = browser.find_element(By.ID, \"words\").find_elements(By.CLASS_NAME, \"word\")\n",
    "    try:\n",
    "        while len(words) != 0:\n",
    "            active_index = [i for i in range(len(words)) if 'active' in words[i].get_attribute('class')][0]\n",
    "            words = words[active_index:]\n",
    "            all_letters = \"\"\n",
    "            for word in words:\n",
    "                letters = word.find_elements(By.TAG_NAME, \"letter\")\n",
    "                for letter in letters:\n",
    "                    all_letters += letter.text\n",
    "                all_letters += \" \"\n",
    "            ActionChains(browser).send_keys(all_letters).perform()\n",
    "            time.sleep(delay)\n",
    "            words = browser.find_element(By.ID, \"words\").find_elements(By.CLASS_NAME, \"word\")\n",
    "    except Exception as e:\n",
    "        print(e)\n",
    "    print(\"Game Over\")"
   ]
  },
  {
   "cell_type": "code",
   "execution_count": 5,
   "metadata": {
    "tags": []
   },
   "outputs": [],
   "source": [
    "def one_word_at_a_time(delay: float):\n",
    "    # version 3: detect one active word at a time and input (fastest way)\n",
    "    try:\n",
    "        while len(browser.find_elements(By.CLASS_NAME, \"word\")) != 0:\n",
    "            ActionChains(browser).send_keys([letter.text for letter in browser.find_element(By.CSS_SELECTOR, \".word.active\").find_elements(By.TAG_NAME, \"letter\")] + [' ']).perform()\n",
    "            time.sleep(delay)\n",
    "    except Exception as e:\n",
    "        print(e)\n",
    "    print(\"Game Over\")"
   ]
  },
  {
   "cell_type": "code",
   "execution_count": 6,
   "metadata": {},
   "outputs": [],
   "source": [
    "def one_word_letter_at_a_time(delay: float):\n",
    "    # version 4: detect one active word at a time and input its letter one by one to mimic the most natural way of typing\n",
    "    try:\n",
    "        while len(browser.find_elements(By.CLASS_NAME, \"word\")) != 0:\n",
    "            active_word = browser.find_element(By.CSS_SELECTOR, \".word.active\")\n",
    "            letters = [letter.text for letter in active_word.find_elements(By.TAG_NAME, \"letter\")] + [' ']\n",
    "            for letter in letters:\n",
    "                ActionChains(browser).send_keys(letter).perform()\n",
    "                time.sleep(delay)\n",
    "    except Exception as e:\n",
    "        print(e)\n",
    "    print(\"Game Over\")"
   ]
  },
  {
   "cell_type": "code",
   "execution_count": 4,
   "metadata": {},
   "outputs": [],
   "source": [
    "def one_word_letter_at_a_time_random(delay: float):\n",
    "    # version 5: detect one active word at a time and input its letter one by one + randomize delay to mimic the most natural way of typing\n",
    "    try:\n",
    "        while len(browser.find_elements(By.CLASS_NAME, \"word\")) != 0:\n",
    "            active_word = browser.find_element(By.CSS_SELECTOR, \".word.active\")\n",
    "            letters = [letter.text for letter in active_word.find_elements(By.TAG_NAME, \"letter\")] + [' ']\n",
    "            for letter in letters:\n",
    "                ActionChains(browser).send_keys(letter).perform()\n",
    "                random_delay = delay * random.random() + 0.005\n",
    "                time.sleep(random_delay)\n",
    "            random_delay = delay * random.random() + 0.005\n",
    "            time.sleep(random_delay)\n",
    "    except Exception as e:\n",
    "        print(e)\n",
    "    print(\"Game Over\")"
   ]
  },
  {
   "cell_type": "code",
   "execution_count": 10,
   "metadata": {},
   "outputs": [],
   "source": [
    "url = 'https://monkeytype.com/'\n",
    "browser.get(url)\n",
    "\n",
    "# manually click in browser to get ready (accept cookies, choose 15/30/60 seconds, etc.)"
   ]
  },
  {
   "cell_type": "code",
   "execution_count": 11,
   "metadata": {},
   "outputs": [
    {
     "name": "stdout",
     "output_type": "stream",
     "text": [
      "Game Over\n"
     ]
    }
   ],
   "source": [
    "delay = 0.01\n",
    "\n",
    "# uncomment one of the following lines to test different methods\n",
    "# one_letter_at_a_time(delay)\n",
    "# all_letters_at_a_time(delay)\n",
    "# one_word_at_a_time(delay)\n",
    "# one_word_letter_at_a_time(delay)\n",
    "one_word_letter_at_a_time_random(delay)"
   ]
  },
  {
   "cell_type": "code",
   "execution_count": 12,
   "metadata": {
    "tags": []
   },
   "outputs": [
    {
     "name": "stdout",
     "output_type": "stream",
     "text": [
      "wpm: 294\n",
      "accuracy: 100%\n",
      "consistency: 89%\n"
     ]
    }
   ],
   "source": [
    "wpm = browser.find_element(By.CSS_SELECTOR, \".group.wpm\").find_element(By.CLASS_NAME, \"bottom\").text\n",
    "acc = browser.find_element(By.CSS_SELECTOR, \".group.acc\").find_element(By.CLASS_NAME, \"bottom\").text\n",
    "consistency = browser.find_element(By.CSS_SELECTOR, \".group.flat.consistency\").find_element(By.CLASS_NAME, \"bottom\").text\n",
    "print(\"wpm: \" + wpm)\n",
    "print(\"accuracy: \" + acc)\n",
    "print(\"consistency: \" + consistency)"
   ]
  },
  {
   "cell_type": "code",
   "execution_count": 13,
   "metadata": {},
   "outputs": [],
   "source": [
    "browser.close()"
   ]
  }
 ],
 "metadata": {
  "kernelspec": {
   "display_name": "Python 3.9.7 ('web')",
   "language": "python",
   "name": "python3"
  },
  "language_info": {
   "codemirror_mode": {
    "name": "ipython",
    "version": 3
   },
   "file_extension": ".py",
   "mimetype": "text/x-python",
   "name": "python",
   "nbconvert_exporter": "python",
   "pygments_lexer": "ipython3",
   "version": "3.9.13"
  },
  "orig_nbformat": 2,
  "vscode": {
   "interpreter": {
    "hash": "c59d2f9ac7c9238f31c28d6e005c5ca96b700b3191877656b487c4f03f6ad23d"
   }
  }
 },
 "nbformat": 4,
 "nbformat_minor": 2
}
