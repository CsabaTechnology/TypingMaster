{
 "cells": [
  {
   "cell_type": "code",
   "execution_count": 1,
   "metadata": {},
   "outputs": [],
   "source": [
    "import random\n",
    "import time\n",
    "from selenium import webdriver\n",
    "from selenium.webdriver import ActionChains\n",
    "from selenium.webdriver import DesiredCapabilities\n",
    "from selenium.webdriver.chrome.options import Options as ChromeOptions\n",
    "from selenium.webdriver.common.by import By\n",
    "from selenium.common.exceptions import NoSuchElementException, StaleElementReferenceException"
   ]
  },
  {
   "cell_type": "code",
   "execution_count": 9,
   "metadata": {},
   "outputs": [],
   "source": [
    "chrome_options = ChromeOptions()\n",
    "chrome_options.headless = True\n",
    "# chrome_options.add_argument(\"--disable-extensions\")\n",
    "chrome_options.add_argument(\"--disable-gpu\")\n",
    "chrome_options.add_argument(\"--no-sandbox\")\n",
    "chrome_options.add_argument(\"--headless\")  # for Jenkins\n",
    "chrome_options.add_argument(\"--disable-dev-shm-usage\")  # Jenkins\n",
    "chrome_options.add_argument(\"--disable-setuid-sandbox\")\n",
    "chrome_options.add_argument(\"--allow-insecure-localhost\")\n",
    "chrome_options.add_argument(\"--no-cache\")\n",
    "# chrome_options.add_argument(\"--user-data-dir=/tmp/user-data\")\n",
    "# chrome_options.add_argument(\"--hide-scrollbars\")\n",
    "chrome_options.add_argument(\"--enable-logging\")\n",
    "# chrome_options.add_argument(\"--log-level=0\")\n",
    "chrome_options.add_argument(\"--single-process\")\n",
    "# chrome_options.add_argument(\"--data-path=/tmp/data-path\")\n",
    "chrome_options.add_argument(\"--ignore-certificate-errors\")\n",
    "# chrome_options.add_argument(\"--homedir=/tmp\")\n",
    "# chrome_options.add_argument(\"--disk-cache-dir=/tmp/cache-dir\")\n",
    "# chrome_options.add_argument(\"user-agent={}\".format(CHROME_USER_AGENT))\n",
    "chrome_options.add_argument(\"--start-maximized\")\n",
    "chrome_options.add_argument(\"--window-size=1900,1000\")\n",
    "chrome_options.add_argument(\"--disable-software-rasterizer\")\n",
    "chrome_options.add_argument(\"--ignore-certificate-errors-spki-list\")\n",
    "chrome_options.add_argument(\"--ignore-ssl-errors\")\n",
    "# chrome_options.add_argument(\"--crash-dumps-dir=/tmp\")\n",
    "chrome_options.add_argument(\"--profile-directory=Default\")\n",
    "# chrome_options.add_argument(\"--disable-infobars\")\n",
    "capabilities = DesiredCapabilities.CHROME.copy()\n",
    "capabilities[\"pageLoadStrategy\"] = \"normal\"\n",
    "chrome_options._caps = capabilities\n",
    "\n",
    "browser = webdriver.Chrome(\n",
    "    options=chrome_options, desired_capabilities=capabilities\n",
    ")\n",
    "\n",
    "# https://scrapfly.io/blog/how-to-avoid-web-scraping-blocking-javascript/\n",
    "script = \"Object.defineProperty(navigator, 'webdriver', {get: () => false})\"\n",
    "browser.execute_cdp_cmd(\n",
    "    \"Page.addScriptToEvaluateOnNewDocument\", {\"source\": script}\n",
    ")\n",
    "dummy_user_agent = {\n",
    "    # usual user agent string\n",
    "    \"userAgent\": \"Mozilla/5.0 (X11; Linux x86_64) AppleWebKit/537.36 (KHTML, like Gecko) Chrome/115.0.0.0 Safari/537.36\",\n",
    "    \"platform\": \"Linux x86_64\",\n",
    "    \"language\": \"en-US\",\n",
    "    \"acceptLanguage\": \"en-US, en\",\n",
    "    \"userAgentMetadata\": {\n",
    "        # ensure the order of this array matches real browser!\n",
    "        \"brands\": [\n",
    "            # at the time of writing this is always == 99\n",
    "            {\"brand\": \" Not/A)Brand\", \"version\": \"99\"},\n",
    "            # ensure that the versions here match ones from User-Agent string\n",
    "            {\"brand\": \"Google Chrome\", \"version\": \"115\"},\n",
    "            {\"brand\": \"Chromium\", \"version\": \"115\"},\n",
    "        ],\n",
    "        \"fullVersion\": \"115.0.0.0\",\n",
    "        \"platform\": \"Linux\",\n",
    "        \"platformVersion\": \"\",\n",
    "        \"architecture\": \"x86_64\",\n",
    "        \"model\": \"\",\n",
    "        \"mobile\": False,\n",
    "        \"vendor\": \"Google Inc.\",\n",
    "        \"VendorSub\": \"\",\n",
    "    },\n",
    "    \"product\": \"Gecko\",\n",
    "    \"productSub\": \"20030107\",\n",
    "}\n",
    "browser.execute_cdp_cmd(\"Network.setUserAgentOverride\", dummy_user_agent)"
   ]
  },
  {
   "cell_type": "code",
   "execution_count": 3,
   "metadata": {},
   "outputs": [],
   "source": [
    "def one_letter_at_a_time(delay: float):\n",
    "    # version 1: send leter by letter\n",
    "    words = browser.find_element(By.ID, \"words\").find_elements(By.CLASS_NAME, \"word\")\n",
    "    try:\n",
    "        while len(words) != 0:\n",
    "            active_index = [i for i in range(len(words)) if 'active' in words[i].get_attribute('class')][0]\n",
    "            words = words[active_index:]\n",
    "            all_letters = \"\"\n",
    "            for word in words:\n",
    "                letters = word.find_elements(By.TAG_NAME, \"letter\")\n",
    "                for letter in letters:\n",
    "                    all_letters += letter.text\n",
    "                all_letters += \" \"\n",
    "            for letter in all_letters:\n",
    "                ActionChains(browser).send_keys(letter).perform()\n",
    "                time.sleep(delay)\n",
    "            words = browser.find_element(By.ID, \"words\").find_elements(By.CLASS_NAME, \"word\")\n",
    "    except Exception as e:\n",
    "        print(e)\n",
    "    print(\"Game Over\")"
   ]
  },
  {
   "cell_type": "code",
   "execution_count": 4,
   "metadata": {
    "tags": []
   },
   "outputs": [],
   "source": [
    "def all_letters_at_a_time(delay: float):\n",
    "    # version 2: send all letters at once\n",
    "    words = browser.find_element(By.ID, \"words\").find_elements(By.CLASS_NAME, \"word\")\n",
    "    try:\n",
    "        while len(words) != 0:\n",
    "            active_index = [i for i in range(len(words)) if 'active' in words[i].get_attribute('class')][0]\n",
    "            words = words[active_index:]\n",
    "            all_letters = \"\"\n",
    "            for word in words:\n",
    "                letters = word.find_elements(By.TAG_NAME, \"letter\")\n",
    "                for letter in letters:\n",
    "                    all_letters += letter.text\n",
    "                all_letters += \" \"\n",
    "            ActionChains(browser).send_keys(all_letters).perform()\n",
    "            time.sleep(delay)\n",
    "            words = browser.find_element(By.ID, \"words\").find_elements(By.CLASS_NAME, \"word\")\n",
    "    except Exception as e:\n",
    "        print(e)\n",
    "    print(\"Game Over\")"
   ]
  },
  {
   "cell_type": "code",
   "execution_count": 5,
   "metadata": {
    "tags": []
   },
   "outputs": [],
   "source": [
    "def one_word_at_a_time(delay: float):\n",
    "    # version 3: detect one active word at a time and input (fastest way)\n",
    "    try:\n",
    "        while len(browser.find_elements(By.CLASS_NAME, \"word\")) != 0:\n",
    "            ActionChains(browser).send_keys([letter.text for letter in browser.find_element(By.CSS_SELECTOR, \".word.active\").find_elements(By.TAG_NAME, \"letter\")] + [' ']).perform()\n",
    "            time.sleep(delay)\n",
    "    except Exception as e:\n",
    "        print(e)\n",
    "    print(\"Game Over\")"
   ]
  },
  {
   "cell_type": "code",
   "execution_count": 6,
   "metadata": {},
   "outputs": [],
   "source": [
    "def one_word_letter_at_a_time(delay: float):\n",
    "    # version 4: detect one active word at a time and input its letter one by one to mimic the most natural way of typing\n",
    "    try:\n",
    "        while len(browser.find_elements(By.CLASS_NAME, \"word\")) != 0:\n",
    "            active_word = browser.find_element(By.CSS_SELECTOR, \".word.active\")\n",
    "            letters = [letter.text for letter in active_word.find_elements(By.TAG_NAME, \"letter\")] + [' ']\n",
    "            for letter in letters:\n",
    "                ActionChains(browser).send_keys(letter).perform()\n",
    "                time.sleep(delay)\n",
    "    except Exception as e:\n",
    "        print(e)\n",
    "    print(\"Game Over\")"
   ]
  },
  {
   "cell_type": "code",
   "execution_count": null,
   "metadata": {},
   "outputs": [],
   "source": [
    "def one_word_letter_at_a_time_random(delay: float):\n",
    "    # version 5: detect one active word at a time and input its letter one by one + randomize delay to mimic the most natural way of typing\n",
    "    try:\n",
    "        while len(browser.find_elements(By.CLASS_NAME, \"word\")) != 0:\n",
    "            active_word = browser.find_element(By.CSS_SELECTOR, \".word.active\")\n",
    "            letters = [letter.text for letter in active_word.find_elements(By.TAG_NAME, \"letter\")] + [' ']\n",
    "            for letter in letters:\n",
    "                ActionChains(browser).send_keys(letter).perform()\n",
    "                random_delay = delay * random.random() + 0.005\n",
    "                time.sleep(random_delay)\n",
    "    except Exception as e:\n",
    "        print(e)\n",
    "    print(\"Game Over\")"
   ]
  },
  {
   "cell_type": "code",
   "execution_count": 10,
   "metadata": {},
   "outputs": [],
   "source": [
    "url = 'https://monkeytype.com/'\n",
    "browser.get(url)\n",
    "\n",
    "# manually click in browser to get ready (accept cookies, choose 15/30/60 seconds, etc.)"
   ]
  },
  {
   "cell_type": "code",
   "execution_count": 12,
   "metadata": {},
   "outputs": [
    {
     "name": "stdout",
     "output_type": "stream",
     "text": [
      "Message: stale element reference: element is not attached to the page document\n",
      "  (Session info: chrome=104.0.5112.79)\n",
      "Stacktrace:\n",
      "0   chromedriver                        0x0000000100929d14 chromedriver + 3792148\n",
      "1   chromedriver                        0x00000001008c0828 chromedriver + 3360808\n",
      "2   chromedriver                        0x00000001005c10b8 chromedriver + 217272\n",
      "3   chromedriver                        0x00000001005c3ae8 chromedriver + 228072\n",
      "4   chromedriver                        0x00000001005c3950 chromedriver + 227664\n",
      "5   chromedriver                        0x00000001005c3b84 chromedriver + 228228\n",
      "6   chromedriver                        0x00000001005ec0f0 chromedriver + 393456\n",
      "7   chromedriver                        0x00000001005e7614 chromedriver + 374292\n",
      "8   chromedriver                        0x0000000100619a60 chromedriver + 580192\n",
      "9   chromedriver                        0x00000001005e6318 chromedriver + 369432\n",
      "10  chromedriver                        0x00000001008ff1e8 chromedriver + 3617256\n",
      "11  chromedriver                        0x0000000100903678 chromedriver + 3634808\n",
      "12  chromedriver                        0x0000000100907c6c chromedriver + 3652716\n",
      "13  chromedriver                        0x0000000100904110 chromedriver + 3637520\n",
      "14  chromedriver                        0x00000001008e27ac chromedriver + 3499948\n",
      "15  chromedriver                        0x000000010091bbf0 chromedriver + 3734512\n",
      "16  chromedriver                        0x000000010091bd54 chromedriver + 3734868\n",
      "17  chromedriver                        0x0000000100930558 chromedriver + 3818840\n",
      "18  libsystem_pthread.dylib             0x000000019709c26c _pthread_start + 148\n",
      "19  libsystem_pthread.dylib             0x000000019709708c thread_start + 8\n",
      "\n",
      "Game Over\n"
     ]
    }
   ],
   "source": [
    "delay = 0.01\n",
    "\n",
    "# uncomment one of the following lines to test different methods\n",
    "# one_letter_at_a_time(delay)\n",
    "# all_letters_at_a_time(delay)\n",
    "# one_word_at_a_time(delay)\n",
    "# one_word_letter_at_a_time(delay)\n",
    "one_word_letter_at_a_time_random(delay)"
   ]
  },
  {
   "cell_type": "code",
   "execution_count": 14,
   "metadata": {
    "tags": []
   },
   "outputs": [
    {
     "name": "stdout",
     "output_type": "stream",
     "text": [
      "wpm: 409\n",
      "accuracy: 100%\n",
      "consistency: 94%\n"
     ]
    }
   ],
   "source": [
    "wpm = browser.find_element(By.CSS_SELECTOR, \".group.wpm\").find_element(By.CLASS_NAME, \"bottom\").text\n",
    "acc = browser.find_element(By.CSS_SELECTOR, \".group.acc\").find_element(By.CLASS_NAME, \"bottom\").text\n",
    "consistency = browser.find_element(By.CSS_SELECTOR, \".group.flat.consistency\").find_element(By.CLASS_NAME, \"bottom\").text\n",
    "print(\"wpm: \" + wpm)\n",
    "print(\"accuracy: \" + acc)\n",
    "print(\"consistency: \" + consistency)"
   ]
  },
  {
   "cell_type": "code",
   "execution_count": null,
   "metadata": {},
   "outputs": [],
   "source": [
    "browser.close()"
   ]
  }
 ],
 "metadata": {
  "kernelspec": {
   "display_name": "Python 3.9.7 ('web')",
   "language": "python",
   "name": "python3"
  },
  "language_info": {
   "codemirror_mode": {
    "name": "ipython",
    "version": 3
   },
   "file_extension": ".py",
   "mimetype": "text/x-python",
   "name": "python",
   "nbconvert_exporter": "python",
   "pygments_lexer": "ipython3",
   "version": "3.9.13"
  },
  "orig_nbformat": 2,
  "vscode": {
   "interpreter": {
    "hash": "c59d2f9ac7c9238f31c28d6e005c5ca96b700b3191877656b487c4f03f6ad23d"
   }
  }
 },
 "nbformat": 4,
 "nbformat_minor": 2
}
